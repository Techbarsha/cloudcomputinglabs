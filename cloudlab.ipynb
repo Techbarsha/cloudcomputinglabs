{
  "nbformat": 4,
  "nbformat_minor": 0,
  "metadata": {
    "colab": {
      "provenance": [],
      "authorship_tag": "ABX9TyO3tFZO/ApknTFpIWsFAlx9",
      "include_colab_link": true
    },
    "kernelspec": {
      "name": "python3",
      "display_name": "Python 3"
    },
    "language_info": {
      "name": "python"
    }
  },
  "cells": [
    {
      "cell_type": "markdown",
      "metadata": {
        "id": "view-in-github",
        "colab_type": "text"
      },
      "source": [
        "<a href=\"https://colab.research.google.com/github/Techbarsha/cloudcomputinglabs/blob/main/cloudlab.ipynb\" target=\"_parent\"><img src=\"https://colab.research.google.com/assets/colab-badge.svg\" alt=\"Open In Colab\"/></a>"
      ]
    },
    {
      "cell_type": "markdown",
      "source": [
        "1.Initialize Firebase App."
      ],
      "metadata": {
        "id": "D-UiEpQyfmv-"
      }
    },
    {
      "cell_type": "code",
      "execution_count": 2,
      "metadata": {
        "colab": {
          "base_uri": "https://localhost:8080/"
        },
        "id": "wEYsT3KteluG",
        "outputId": "5e99a156-d579-4d1e-916f-cd7d96c9dcc0"
      },
      "outputs": [
        {
          "output_type": "stream",
          "name": "stdout",
          "text": [
            "Firebase app initialized successfully.\n"
          ]
        }
      ],
      "source": [
        "import firebase_admin\n",
        "from firebase_admin import credentials\n",
        "\n",
        "if not firebase_admin._apps:\n",
        "    cred = credentials.Certificate(\"/content/serviceAccountKey.json\")\n",
        "    firebase_admin.initialize_app(cred)\n",
        "    print('Firebase app initialized successfully.')\n",
        "else:\n",
        "    print('Firebase app already initialized.')"
      ]
    },
    {
      "cell_type": "markdown",
      "source": [
        "2. Upload Data to Firestore."
      ],
      "metadata": {
        "id": "p-lHdt7zhUhb"
      }
    },
    {
      "cell_type": "code",
      "metadata": {
        "colab": {
          "base_uri": "https://localhost:8080/"
        },
        "id": "TQ-W5b4GhET",
        "outputId": "6660dc32-7f58-40ad-dae5-b879c5ddf8c7"
      },
      "source": [
        "from firebase_admin import firestore\n",
        "db = firestore.client()\n",
        "def upload_data(collection, document_id, data):\n",
        "    db.collection(collection).document(document_id).set(data)\n",
        "    print(f\"Document '{document_id}' added to collection '{collection}'.\")\n",
        "\n",
        "upload_data('users', 'ID1', {\"name\": 'John Doe', 'email': 'john@example.com'})"
      ],
      "execution_count": 3,
      "outputs": [
        {
          "output_type": "stream",
          "name": "stdout",
          "text": [
            "Document 'ID1' added to collection 'users'.\n"
          ]
        }
      ]
    },
    {
      "cell_type": "markdown",
      "source": [
        "3. Read Data from Firestore."
      ],
      "metadata": {
        "id": "miixINOvid3q"
      }
    },
    {
      "cell_type": "code",
      "source": [
        "# read data\n",
        "def read_data(collection, document_id):\n",
        "    doc = db.collection(collection).document(document_id).get()\n",
        "    if doc.exists:\n",
        "        print(\"Document data:\", doc.to_dict())\n",
        "    else:\n",
        "        print(\"No such document found. \")\n",
        "\n",
        "read_data('users', 'ID1')"
      ],
      "metadata": {
        "colab": {
          "base_uri": "https://localhost:8080/"
        },
        "id": "XYJoxVK-ifxT",
        "outputId": "60ba1037-842e-487c-f59d-f070d1482a64"
      },
      "execution_count": null,
      "outputs": [
        {
          "output_type": "stream",
          "name": "stdout",
          "text": [
            "Document data: {'email': 'john@example.com', 'name': 'John Doe'}\n"
          ]
        }
      ]
    },
    {
      "cell_type": "markdown",
      "source": [
        "4. Update Firestore Document."
      ],
      "metadata": {
        "id": "7LuiNBOTizs6"
      }
    },
    {
      "cell_type": "code",
      "source": [
        "# update data\n",
        "def update_data(collection, document_id, data):\n",
        "    db.collection(collection).document(document_id).update(data)\n",
        "    print(f\"Document '{document_id}' updated with {data}.\")\n",
        "\n",
        "update_data('users', 'ID1', {'email' : 'john@gmail.com'})"
      ],
      "metadata": {
        "colab": {
          "base_uri": "https://localhost:8080/"
        },
        "id": "rHVtv_L6i1S6",
        "outputId": "7f345cd5-ad86-4ea6-f427-fc9231f53fe8"
      },
      "execution_count": null,
      "outputs": [
        {
          "output_type": "stream",
          "name": "stdout",
          "text": [
            "Document 'ID1' updated with {'email': 'john@gmail.com'}.\n"
          ]
        }
      ]
    },
    {
      "cell_type": "markdown",
      "source": [
        "5. Delete Firestore Document."
      ],
      "metadata": {
        "id": "rM5j4Yi1i6DC"
      }
    },
    {
      "cell_type": "code",
      "source": [
        "# delete data\n",
        "def delete_document(collection, document_id):\n",
        "    db.collection(collection).document(document_id).delete()\n",
        "    print(f\"Document '{document_id}' deleted from collection '{collection}'.\")\n",
        "delete_document('users', 'ID1')"
      ],
      "metadata": {
        "colab": {
          "base_uri": "https://localhost:8080/"
        },
        "id": "LLZQ9MaNi8LS",
        "outputId": "ea6239d2-376c-47fa-be5e-d2a3fb953b23"
      },
      "execution_count": null,
      "outputs": [
        {
          "output_type": "stream",
          "name": "stdout",
          "text": [
            "Document 'ID1' deleted from collection 'users'.\n"
          ]
        }
      ]
    },
    {
      "cell_type": "markdown",
      "source": [
        "6. Add Data with Auto ID."
      ],
      "metadata": {
        "id": "X1xqVsSzjGaJ"
      }
    },
    {
      "cell_type": "code",
      "source": [
        "# add datab with auto id\n",
        "def add_data_auto_id(collection, data):\n",
        "    ref = db.collection(collection).add(data)\n",
        "    print(f\"Document added with auto-generated ID: {ref[1].id}\")\n",
        "add_data_auto_id('logs', {'event' : 'login', 'status' : 'success' })"
      ],
      "metadata": {
        "colab": {
          "base_uri": "https://localhost:8080/"
        },
        "id": "ehv8GysujIR7",
        "outputId": "676eff1e-c952-40eb-bba7-85f573993e6e"
      },
      "execution_count": null,
      "outputs": [
        {
          "output_type": "stream",
          "name": "stdout",
          "text": [
            "Document added with auto-generated ID: 3wpRnFXy4nQS0YnppAHU\n"
          ]
        }
      ]
    },
    {
      "cell_type": "markdown",
      "source": [
        "7. List All Documents in a Collection."
      ],
      "metadata": {
        "id": "uHyctSjLjVVa"
      }
    },
    {
      "cell_type": "code",
      "source": [
        "def list_documents(collection):\n",
        "    docs = db. collection(collection).stream()\n",
        "    for doc in docs:\n",
        "        print(f\"{doc.id} => {doc.to_dict()}\")\n",
        "list_documents('users')"
      ],
      "metadata": {
        "colab": {
          "base_uri": "https://localhost:8080/"
        },
        "id": "nwBSNlo7jWiq",
        "outputId": "fedf70b9-e44f-402d-e8a3-4788e0f530d1"
      },
      "execution_count": null,
      "outputs": [
        {
          "output_type": "stream",
          "name": "stdout",
          "text": [
            "user1 => {'email': 'john@example.com', 'name': 'John Doe'}\n"
          ]
        }
      ]
    },
    {
      "cell_type": "markdown",
      "source": [
        "8. Upload File to Firebase Storage."
      ],
      "metadata": {
        "id": "RYKiK_-YjaZj"
      }
    },
    {
      "cell_type": "code",
      "source": [
        "from firebase_admin import storage\n",
        "# Use your Project ID here\n",
        "bucket = storage.bucket(app=firebase_admin.get_app(), name=\"cloud-computing-lab-4a178.firebasestorage.app\")\n",
        "def upload_file(cloud_path, Local_path):\n",
        "    blob = bucket.blob(cloud_path)\n",
        "    blob.upload_from_filename(Local_path)\n",
        "    print(f\"File '{Local_path}' uploaded to '{cloud_path}'.\")\n",
        "\n",
        "upload_file('ROBOTICS.pdf', '/content/ROBOTICS.pdf')"
      ],
      "metadata": {
        "id": "JCnRGq8Yjbqy"
      },
      "execution_count": null,
      "outputs": []
    },
    {
      "cell_type": "markdown",
      "source": [
        "9. Download File from Firebase Storage."
      ],
      "metadata": {
        "id": "kh9H6vrJoEb3"
      }
    },
    {
      "cell_type": "code",
      "source": [
        "def download_file(cloud_path, Local_path):\n",
        "    blob = bucket.blob(cloud_path)\n",
        "    blob.download_to_filename(Local_path)\n",
        "    print(f\"File '{cloud_path}' downloaded to '{Local_path}'.\")\n",
        "\n",
        "download_file('ROBOTICS.pdf', r'/content/ROBOTICS.pdf')"
      ],
      "metadata": {
        "id": "jWexttCmoF4A"
      },
      "execution_count": null,
      "outputs": []
    },
    {
      "cell_type": "markdown",
      "source": [
        "10. Delete File from Firebase Storage."
      ],
      "metadata": {
        "id": "SmjpS72wouYk"
      }
    },
    {
      "cell_type": "code",
      "source": [
        "def delete_file(cloud_path):\n",
        "    blob = bucket.blob(cloud_path)\n",
        "    blob.delete()\n",
        "    print(f\"File '{cloud_path}' deleted from storage.\")\n",
        "delete_file('ROBOTICS.pdf')"
      ],
      "metadata": {
        "id": "zWsGwDEdowHP"
      },
      "execution_count": null,
      "outputs": []
    },
    {
      "cell_type": "markdown",
      "source": [
        " 11. Generate Signed URL for Firebase Storage"
      ],
      "metadata": {
        "id": "LY9koRG5pNvn"
      }
    },
    {
      "cell_type": "code",
      "source": [
        "import datetime\n",
        "def generate_signed_url(cloud_path, expiry_minutes=60):\n",
        "    blob = bucket.blob(cloud_path)\n",
        "    url = blob. generate_signed_url(datetime. timedelta(minutes=expiry_minutes))\n",
        "    print(\"Generated Signed URL:\", url)\n",
        "generate_signed_url('ROBOTICS.pdf')"
      ],
      "metadata": {
        "colab": {
          "base_uri": "https://localhost:8080/"
        },
        "id": "-2QUkTDepO_H",
        "outputId": "bc55671a-f2fe-45ae-8150-74feb0e8a255"
      },
      "execution_count": 20,
      "outputs": [
        {
          "output_type": "stream",
          "name": "stdout",
          "text": [
            "Generated Signed URL: https://storage.googleapis.com/cloud-computing-lab-4a178.firebasestorage.app/ROBOTICS.pdf?Expires=1751565087&GoogleAccessId=firebase-adminsdk-fbsvc%40cloud-computing-lab-4a178.iam.gserviceaccount.com&Signature=NuPHcnBuo7zbeFmu5vmSqBZEKF2LOa0bfTtVJtNnlFyGwXshz3PRw1DZ9MlvIyqZS4QlLPtfQl4jp%2BLUQsBH8i2%2F4wIuyO%2F%2BYQ4EW0YtHIkCePHvB1AejiZfRvaMTWbSWZHk8pZ6iKLlwX%2BxsYGiUHU8lY9W4m5lJtcJjBh0BuLpzAn11tZ97wavhKHTwvP90qkXuesTo%2FWRgGgA9BUOze94W5HS2BJWagms%2BJQxyoL8oEjEMuA7Zxr5FlhOePRAOa3LXhgZf1aIy%2Bv4l1UM5R6smBcIYvqE8vw1fTwM%2B7iWBshj0A89yXTS0%2FNMmMfvnmXCy79ejqr6Z01K8XdMHw%3D%3D\n"
          ]
        }
      ]
    },
    {
      "cell_type": "markdown",
      "source": [
        "12. Create New Firestore Collection with Batch Write"
      ],
      "metadata": {
        "id": "LDKKSnaepvyn"
      }
    },
    {
      "cell_type": "code",
      "source": [
        "def batch_insert(collection_name, data_list):\n",
        "    batch = db.batch()\n",
        "    for data in data_list:\n",
        "        ref = db. collection(collection_name).document()\n",
        "        batch.set(ref, data)\n",
        "    batch.commit()\n",
        "    print(f\"{len(data_list) } documents inserted into '{collection_name}'.\")\n",
        "batch_insert('products', [ {'name': 'Apple'}, {'name': 'Banana' }])"
      ],
      "metadata": {
        "colab": {
          "base_uri": "https://localhost:8080/"
        },
        "id": "4w6xyhlPpw4W",
        "outputId": "120772db-22ae-4489-f334-06bc387aa04d"
      },
      "execution_count": null,
      "outputs": [
        {
          "output_type": "stream",
          "name": "stdout",
          "text": [
            "2 documents inserted into 'products'.\n"
          ]
        }
      ]
    },
    {
      "cell_type": "markdown",
      "source": [
        "13. Query Firestore Documents by Field."
      ],
      "metadata": {
        "id": "MMePMr0mp6EP"
      }
    },
    {
      "cell_type": "code",
      "source": [
        "def query_collection(collection, field, value):\n",
        "    # Using positional arguments for where() as FieldFilter import is failing\n",
        "    results = db.collection(collection).where(field, '==', value).stream()\n",
        "    for doc in results:\n",
        "        print(f\"{doc.id} => {doc.to_dict()}\")\n",
        "\n",
        "query_collection('products', 'name', 'Apple' )"
      ],
      "metadata": {
        "colab": {
          "base_uri": "https://localhost:8080/"
        },
        "id": "LuBj48_xp7Wm",
        "outputId": "0e2b7c4b-8d57-45e3-aebe-939ca0a28c13"
      },
      "execution_count": null,
      "outputs": [
        {
          "output_type": "stream",
          "name": "stdout",
          "text": [
            "OOAtB3bYeqLlKM49Li9L => {'name': 'Apple'}\n",
            "Tov3xLakUur3RVr9Igui => {'name': 'Apple'}\n"
          ]
        },
        {
          "output_type": "stream",
          "name": "stderr",
          "text": [
            "/usr/local/lib/python3.11/dist-packages/google/cloud/firestore_v1/base_collection.py:304: UserWarning: Detected filter using positional arguments. Prefer using the 'filter' keyword argument instead.\n",
            "  return query.where(field_path, op_string, value)\n"
          ]
        }
      ]
    },
    {
      "cell_type": "markdown",
      "source": [
        "14. Send Firebase Cloud Message (FCM)"
      ],
      "metadata": {
        "id": "ZSUOQp3AqNOj"
      }
    },
    {
      "cell_type": "code",
      "source": [
        "from firebase_admin import messaging\n",
        "\n",
        "def send_push_notification(token, title, body):\n",
        "    message = messaging.Message(\n",
        "        notification=messaging.Notification(\n",
        "            title=title,\n",
        "            body=body\n",
        "        ),\n",
        "        token=token\n",
        "    )\n",
        "\n",
        "    response = messaging.send(message)\n",
        "    print(\"Notification sent. Response:\", response)\n",
        "\n",
        "# Example usage\n",
        "send_push_notification(\n",
        "    'BBnWu_jFgAU6cYSWiaPHgQgzHBB7HoanrSAMVtdf_8DNL78qxh1EhzVeYYx7PJgzW_9_peCSdsmt9yJbaaYTem0',\n",
        "    'Hello',\n",
        "    'This is a test notification.'\n",
        ")\n"
      ],
      "metadata": {
        "id": "vHfzqzBdqOuG"
      },
      "execution_count": null,
      "outputs": []
    },
    {
      "cell_type": "markdown",
      "source": [
        "15. List All Files in a Firebase Storage Folder."
      ],
      "metadata": {
        "id": "dq0Q8YznKIds"
      }
    },
    {
      "cell_type": "code",
      "source": [
        "def list_storage_files(folder):\n",
        "blobs = bucket. list_blobs(prefix=folder)\n",
        "for blob in blobs:\n",
        "print(blob.name)\n",
        "list_storage_files ('')"
      ],
      "metadata": {
        "id": "K6tamU3nKJuE"
      },
      "execution_count": null,
      "outputs": []
    },
    {
      "cell_type": "markdown",
      "source": [
        "16. Check If Document Exists."
      ],
      "metadata": {
        "id": "04R105B9KzU3"
      }
    },
    {
      "cell_type": "code",
      "source": [
        "from firebase_admin import firestore\n",
        "db = firestore.client()\n",
        "\n",
        "def document_exists(collection, document_id) :\n",
        "    doc = db.collection(collection) .document(document_id) .get()\n",
        "    print(f\"Document Exists: {doc.exists}\")\n",
        "document_exists('users', 'ID1')"
      ],
      "metadata": {
        "colab": {
          "base_uri": "https://localhost:8080/"
        },
        "id": "8NW4qJXQK0ZW",
        "outputId": "6b474252-5b83-4117-9078-aeacf776b023"
      },
      "execution_count": 8,
      "outputs": [
        {
          "output_type": "stream",
          "name": "stdout",
          "text": [
            "Document Exists: False\n"
          ]
        }
      ]
    },
    {
      "cell_type": "markdown",
      "source": [
        "17. Increment Field Value in Firestore."
      ],
      "metadata": {
        "id": "1hx9nHkIK6Rp"
      }
    },
    {
      "cell_type": "code",
      "source": [
        "from firebase_admin import firestore\n",
        "db = firestore.client()\n",
        "\n",
        "def increment_field(collection, document_id, field, amount) :\n",
        "    db.collection(collection) .document(document_id) . update({\n",
        "        field: firestore. Increment(amount)\n",
        "    })\n",
        "    print(f\"Field '{field}' incremented by {amount} in document '{document_id}'.\")\n",
        "increment_field('users', 'user1', 'login_count', 1)"
      ],
      "metadata": {
        "colab": {
          "base_uri": "https://localhost:8080/"
        },
        "id": "p7NM-AMXK7Yq",
        "outputId": "1269bf2b-5bdf-4512-9c04-b77f13a3d7c0"
      },
      "execution_count": 12,
      "outputs": [
        {
          "output_type": "stream",
          "name": "stdout",
          "text": [
            "Field 'login_count' incremented by 1 in document 'user1'.\n"
          ]
        }
      ]
    },
    {
      "cell_type": "markdown",
      "source": [
        "18. Create User Authentication (Client Side Note)"
      ],
      "metadata": {
        "id": "LEtSm5wbK8Oi"
      }
    },
    {
      "cell_type": "code",
      "source": [
        "# Create User Authentication (Client Side Note)\n",
        "print(\"Firebase Admin SDK does not create users directly. Use Firebase Auth client-side SDK. \")"
      ],
      "metadata": {
        "colab": {
          "base_uri": "https://localhost:8080/"
        },
        "id": "cVSkx1ZKK9wD",
        "outputId": "f2882579-660c-4ffd-83f8-01a792058b89"
      },
      "execution_count": 13,
      "outputs": [
        {
          "output_type": "stream",
          "name": "stdout",
          "text": [
            "Firebase Admin SDK does not create users directly. Use Firebase Auth client-side SDK. \n"
          ]
        }
      ]
    },
    {
      "cell_type": "markdown",
      "source": [
        "19. Backup Firestore Collection to JSON"
      ],
      "metadata": {
        "id": "5m3liu4bLKWY"
      }
    },
    {
      "cell_type": "code",
      "source": [
        "import json\n",
        "def backup_collection(collection_name):\n",
        "    docs = db.collection(collection_name).stream()\n",
        "    data = {doc.id: doc.to_dict() for doc in docs}\n",
        "    with open(f\"{collection_name}_backup.json\", 'w') as f:\n",
        "        json.dump(data, f, indent=4)\n",
        "    print(f\"Backup of '{collection_name}' completed.\")\n",
        "backup_collection('users')"
      ],
      "metadata": {
        "colab": {
          "base_uri": "https://localhost:8080/"
        },
        "id": "HpBZejV2LIff",
        "outputId": "3818749d-1e00-4374-b3f3-6ad6dd227b73"
      },
      "execution_count": 15,
      "outputs": [
        {
          "output_type": "stream",
          "name": "stdout",
          "text": [
            "Backup of 'users' completed.\n"
          ]
        }
      ]
    },
    {
      "cell_type": "markdown",
      "source": [
        "20. Restore Firestore Collection from JSON"
      ],
      "metadata": {
        "id": "n_UcK7HULHWf"
      }
    },
    {
      "cell_type": "code",
      "source": [
        "import json\n",
        "from firebase_admin import firestore\n",
        "db = firestore.client()\n",
        "\n",
        "def restore_collection(collection_name, file_path):\n",
        "    with open(file_path, 'r') as f:\n",
        "        data = json.load(f)\n",
        "    for doc_id, doc_data in data.items():\n",
        "        db.collection(collection_name).document(doc_id).set(doc_data)\n",
        "    print(f\"Data restored to collection '{collection_name}' from '{file_path}'.\")\n",
        "restore_collection('users', 'users_backup.json')"
      ],
      "metadata": {
        "colab": {
          "base_uri": "https://localhost:8080/"
        },
        "id": "HGyvAO0DLLWw",
        "outputId": "51ce2952-4270-4680-c894-0d85e2f1ae9c"
      },
      "execution_count": 18,
      "outputs": [
        {
          "output_type": "stream",
          "name": "stdout",
          "text": [
            "Data restored to collection 'users' from 'users_backup.json'.\n"
          ]
        }
      ]
    }
  ]
}